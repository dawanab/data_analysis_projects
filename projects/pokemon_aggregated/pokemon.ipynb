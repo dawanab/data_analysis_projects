{
 "cells": [
  {
   "cell_type": "code",
   "execution_count": 6,
   "metadata": {},
   "outputs": [
    {
     "name": "stdout",
     "output_type": "stream",
     "text": [
      "   #                   Name    Type  Total  HP  Attack  Defense  Sp. Atk  \\\n",
      "0  1              Bulbasaur   Grass    318  45      49       49       65   \n",
      "1  1              Bulbasaur  Poison    318  45      49       49       65   \n",
      "2  2                Ivysaur   Grass    405  60      62       63       80   \n",
      "3  2                Ivysaur  Poison    405  60      62       63       80   \n",
      "4  3               Venusaur   Grass    525  80      82       83      100   \n",
      "5  3               Venusaur  Poison    525  80      82       83      100   \n",
      "6  3  VenusaurMega Venusaur   Grass    625  80     100      123      122   \n",
      "7  3  VenusaurMega Venusaur  Poison    625  80     100      123      122   \n",
      "8  4             Charmander    Fire    309  39      52       43       60   \n",
      "9  5             Charmeleon    Fire    405  58      64       58       80   \n",
      "\n",
      "   Sp. Def  Speed  \n",
      "0       65     45  \n",
      "1       65     45  \n",
      "2       80     60  \n",
      "3       80     60  \n",
      "4      100     80  \n",
      "5      100     80  \n",
      "6      120     80  \n",
      "7      120     80  \n",
      "8       50     65  \n",
      "9       65     80  \n",
      "\n",
      "Number of Pokemon of each Type\n",
      "Type\n",
      "Bug          83\n",
      "Dark         60\n",
      "Dragon       61\n",
      "Electric     62\n",
      "Fairy        53\n",
      "Fighting     63\n",
      "Fire         74\n",
      "Flying      113\n",
      "Ghost        57\n",
      "Grass       109\n",
      "Ground       75\n",
      "Ice          44\n",
      "Normal      117\n",
      "Poison       71\n",
      "Psychic     103\n",
      "Rock         70\n",
      "Steel        62\n",
      "Water       143\n",
      "Name: Name, dtype: int64\n",
      "\n",
      "Median Stats for each Type\n",
      "          Total    HP  Attack  Defense  Sp. Atk  Sp. Def  Speed\n",
      "Type                                                           \n",
      "Bug       395.0  60.0    65.0     60.0     50.0     60.0   60.0\n",
      "Dark      479.5  70.0    90.0     67.0     69.5     65.0   71.5\n",
      "Dragon    570.0  80.0   100.0     90.0     97.0     90.0   85.0\n",
      "Electric  473.5  61.0    70.0     70.0     92.5     75.0   86.0\n",
      "Fairy     462.0  67.0    60.0     72.0     80.0     89.0   60.0\n",
      "Fighting  490.0  75.0   105.0     75.0     61.0     70.0   75.0\n",
      "Fire      482.0  69.0    82.5     65.0     90.0     70.0   80.0\n",
      "Flying    465.0  72.0    76.0     70.0     74.0     70.0   85.0\n",
      "Ghost     480.0  60.0    75.0     76.0     80.0     75.0   60.0\n",
      "Grass     424.0  65.0    70.0     70.0     65.0     72.0   55.0\n",
      "Ground    450.0  75.0    90.0     80.0     55.0     65.0   55.0\n",
      "Ice       480.0  74.0    76.0     78.5     77.5     75.0   65.0\n",
      "Normal    418.0  70.0    75.0     60.0     55.0     61.0   71.0\n",
      "Poison    400.0  63.0    65.0     62.0     65.0     69.0   65.0\n",
      "Psychic   490.0  70.0    70.0     75.0     95.0     89.0   80.0\n",
      "Rock      485.0  66.5    92.5    100.0     55.0     65.0   50.0\n",
      "Steel     497.5  65.0    92.0    106.5     60.0     80.0   60.0\n",
      "Water     450.0  70.0    70.0     70.0     70.0     70.0   65.0\n"
     ]
    }
   ],
   "source": [
    "import pandas as pd\n",
    "df = pd.read_csv(\"pokemon_database.csv\")\n",
    "print(df.head(10))\n",
    "\n",
    "# Count the number of Pokemon 'Name' for each Pokemon Type\n",
    "print(\"\\nNumber of Pokemon of each Type\")\n",
    "print(df.groupby(\"Type\").agg(\"count\")[\"Name\"])\n",
    "\n",
    "# Calculate the median of each stat for each Pokemon\n",
    "print(\"\\nMedian Stats for each Type\")\n",
    "print(df.groupby(\"Type\").agg(\"median\")[[\"Total\", \"HP\", \"Attack\", \"Defense\", \"Sp. Atk\", \"Sp. Def\", \"Speed\"]])\n",
    "\n"
   ]
  }
 ],
 "metadata": {
  "kernelspec": {
   "display_name": "Python 3.10.2 64-bit",
   "language": "python",
   "name": "python3"
  },
  "language_info": {
   "codemirror_mode": {
    "name": "ipython",
    "version": 3
   },
   "file_extension": ".py",
   "mimetype": "text/x-python",
   "name": "python",
   "nbconvert_exporter": "python",
   "pygments_lexer": "ipython3",
   "version": "3.10.4"
  },
  "orig_nbformat": 4,
  "vscode": {
   "interpreter": {
    "hash": "aee8b7b246df8f9039afb4144a1f6fd8d2ca17a180786b69acc140d282b71a49"
   }
  }
 },
 "nbformat": 4,
 "nbformat_minor": 2
}

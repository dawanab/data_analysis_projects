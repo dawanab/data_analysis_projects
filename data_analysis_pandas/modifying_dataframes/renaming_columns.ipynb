{
 "cells": [
  {
   "cell_type": "code",
   "execution_count": 12,
   "metadata": {},
   "outputs": [
    {
     "name": "stdout",
     "output_type": "stream",
     "text": [
      "   id                                       name   genre  year  imdb_rating\n",
      "0   1                                     Avatar  action  2009          7.9\n",
      "1   2                             Jurassic World  action  2015          7.3\n",
      "2   3                               The Avengers  action  2012          8.1\n",
      "3   4                            The Dark Knight  action  2008          9.0\n",
      "4   5  Star Wars: Episode I - The Phantom Menace  action  1999          6.6\n",
      "\n",
      "Renaming Multiple Columns ---->\n",
      "   ID                                      Title Category  Year Released  \\\n",
      "0   1                                     Avatar   action           2009   \n",
      "1   2                             Jurassic World   action           2015   \n",
      "2   3                               The Avengers   action           2012   \n",
      "3   4                            The Dark Knight   action           2008   \n",
      "4   5  Star Wars: Episode I - The Phantom Menace   action           1999   \n",
      "\n",
      "   Rating  \n",
      "0     7.9  \n",
      "1     7.3  \n",
      "2     8.1  \n",
      "3     9.0  \n",
      "4     6.6  \n",
      "\n",
      "Renaming Individual Columns ---->\n",
      "  First Name  Age\n",
      "0       John   23\n",
      "1       Jane   29\n",
      "2        Sue   21\n",
      "3       Fred   18\n",
      "\n",
      "Renaming Individual Column II ---->\n",
      "   id                                movie_title   genre  year  imdb_rating\n",
      "0   1                                     Avatar  action  2009          7.9\n",
      "1   2                             Jurassic World  action  2015          7.3\n",
      "2   3                               The Avengers  action  2012          8.1\n",
      "3   4                            The Dark Knight  action  2008          9.0\n",
      "4   5  Star Wars: Episode I - The Phantom Menace  action  1999          6.6\n"
     ]
    }
   ],
   "source": [
    "import pandas as pd\n",
    "\n",
    "df = pd.read_csv(\"../modifying_dataframes/example_datasets/imdb.csv\")\n",
    "\n",
    "print(df.head())\n",
    "\n",
    "\n",
    "print(\"\\nRenaming Multiple Columns ---->\")\n",
    "df.columns = [\"ID\", \"Title\", \"Category\",\"Year Released\", \"Rating\"]\n",
    "print(df.head())\n",
    "\n",
    "\n",
    "\n",
    "print(\"\\nRenaming Individual Columns ---->\")\n",
    "df = pd.DataFrame({\n",
    "    \"name\": [\"John\", \"Jane\", \"Sue\", \"Fred\"],\n",
    "    \"age\": [23, 29, 21, 18]\n",
    "})\n",
    "\n",
    "df.rename(columns={\n",
    "    \"name\": \"First Name\",\n",
    "    \"age\": \"Age\"\n",
    "}, inplace=True)\n",
    "\n",
    "print(df.head())\n",
    "\n",
    "\n",
    "print(\"\\nRenaming Individual Column II ---->\")\n",
    "df2 = pd.read_csv(\"../modifying_dataframes/example_datasets/imdb.csv\")\n",
    "\n",
    "df2.rename(columns={\n",
    "    \"name\": \"movie_title\"\n",
    "}, inplace=True)\n",
    "\n",
    "print(df2.head())"
   ]
  }
 ],
 "metadata": {
  "kernelspec": {
   "display_name": "Python 3.10.2 64-bit",
   "language": "python",
   "name": "python3"
  },
  "language_info": {
   "codemirror_mode": {
    "name": "ipython",
    "version": 3
   },
   "file_extension": ".py",
   "mimetype": "text/x-python",
   "name": "python",
   "nbconvert_exporter": "python",
   "pygments_lexer": "ipython3",
   "version": "3.10.4"
  },
  "orig_nbformat": 4,
  "vscode": {
   "interpreter": {
    "hash": "aee8b7b246df8f9039afb4144a1f6fd8d2ca17a180786b69acc140d282b71a49"
   }
  }
 },
 "nbformat": 4,
 "nbformat_minor": 2
}

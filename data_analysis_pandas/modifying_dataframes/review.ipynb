{
 "cells": [
  {
   "cell_type": "code",
   "execution_count": 4,
   "metadata": {},
   "outputs": [
    {
     "name": "stdout",
     "output_type": "stream",
     "text": [
      "      id first_name last_name  gender                         email  \\\n",
      "0  54791    Rebecca   Lindsay  female  RebeccaLindsay57@hotmail.com   \n",
      "1  53450      Emily     Joyce  female        EmilyJoyce25@gmail.com   \n",
      "2  91987      Joyce    Waller  female        Joyce.Waller@gmail.com   \n",
      "3  14437     Justin  Erickson    male   Justin.Erickson@outlook.com   \n",
      "4  79357     Andrew     Banks    male              AB4318@gmail.com   \n",
      "\n",
      "      shoe_type shoe_material shoe_color  \n",
      "0         clogs  faux-leather      black  \n",
      "1  ballet flats  faux-leather       navy  \n",
      "2       sandles        fabric      black  \n",
      "3         clogs  faux-leather        red  \n",
      "4         boots       leather      brown  \n",
      "\n",
      "\n",
      "      id first_name last_name  gender                         email  \\\n",
      "0  54791    Rebecca   Lindsay  female  RebeccaLindsay57@hotmail.com   \n",
      "1  53450      Emily     Joyce  female        EmilyJoyce25@gmail.com   \n",
      "2  91987      Joyce    Waller  female        Joyce.Waller@gmail.com   \n",
      "3  14437     Justin  Erickson    male   Justin.Erickson@outlook.com   \n",
      "4  79357     Andrew     Banks    male              AB4318@gmail.com   \n",
      "\n",
      "      shoe_type shoe_material shoe_color shoe_source         salutation  \n",
      "0         clogs  faux-leather      black       vegan   Dear Ms. Lindsay  \n",
      "1  ballet flats  faux-leather       navy       vegan     Dear Ms. Joyce  \n",
      "2       sandles        fabric      black       vegan    Dear Ms. Waller  \n",
      "3         clogs  faux-leather        red       vegan  Dear Mr. Erickson  \n",
      "4         boots       leather      brown      animal     Dear Mr. Banks  \n"
     ]
    }
   ],
   "source": [
    "import pandas as pd\n",
    "\n",
    "orders = pd.read_csv(\"../modifying_dataframes/example_datasets/shoefly.csv\")\n",
    "\n",
    "print(orders.head(5))\n",
    "\n",
    "orders['shoe_source'] = orders.shoe_material.apply(lambda x: \\\n",
    "                        \t'animal' if x == 'leather' else 'vegan')\n",
    "\n",
    "orders['salutation'] = orders.apply(lambda row: \\\n",
    "                                    'Dear Mr. ' + row['last_name']\n",
    "                                    if row['gender'] == 'male'\n",
    "                                    else 'Dear Ms. ' + row['last_name'],\n",
    "                                    axis=1)\n",
    "print(\"\\n\")\n",
    "print(orders.head())"
   ]
  }
 ],
 "metadata": {
  "kernelspec": {
   "display_name": "Python 3.10.2 64-bit",
   "language": "python",
   "name": "python3"
  },
  "language_info": {
   "codemirror_mode": {
    "name": "ipython",
    "version": 3
   },
   "file_extension": ".py",
   "mimetype": "text/x-python",
   "name": "python",
   "nbconvert_exporter": "python",
   "pygments_lexer": "ipython3",
   "version": "3.10.4"
  },
  "orig_nbformat": 4,
  "vscode": {
   "interpreter": {
    "hash": "aee8b7b246df8f9039afb4144a1f6fd8d2ca17a180786b69acc140d282b71a49"
   }
  }
 },
 "nbformat": 4,
 "nbformat_minor": 2
}

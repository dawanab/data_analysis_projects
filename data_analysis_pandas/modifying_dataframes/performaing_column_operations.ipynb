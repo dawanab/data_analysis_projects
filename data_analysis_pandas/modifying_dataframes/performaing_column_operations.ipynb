{
 "cells": [
  {
   "cell_type": "code",
   "execution_count": 1,
   "metadata": {},
   "outputs": [
    {
     "name": "stdout",
     "output_type": "stream",
     "text": [
      "         Name                 Email Lowercase Name\n",
      "0  JOHN SMITH  john.smith@gmail.com     john smith\n",
      "1    Jane Doe        jdoe@yahoo.com       jane doe\n",
      "2   joe schmo  joeschmo@hotmail.com      joe schmo\n"
     ]
    }
   ],
   "source": [
    "import pandas as pd\n",
    "\n",
    "df = pd.DataFrame([\n",
    "    [\"JOHN SMITH\", \"john.smith@gmail.com\"],\n",
    "    [\"Jane Doe\", \"jdoe@yahoo.com\"],\n",
    "    [\"joe schmo\", \"joeschmo@hotmail.com\"]\n",
    "], columns = [\"Name\", \"Email\"])\n",
    "\n",
    "\n",
    "# Applying the function lower to all names in column 'Name' in df. \n",
    "# Assigning these new names to a new column of df called 'Lowercase Name'\n",
    "df[\"Lowercase Name\"] = df.Name.apply(str.lower)\n",
    "\n",
    "print(df)"
   ]
  }
 ],
 "metadata": {
  "kernelspec": {
   "display_name": "Python 3.10.2 64-bit",
   "language": "python",
   "name": "python3"
  },
  "language_info": {
   "codemirror_mode": {
    "name": "ipython",
    "version": 3
   },
   "file_extension": ".py",
   "mimetype": "text/x-python",
   "name": "python",
   "nbconvert_exporter": "python",
   "pygments_lexer": "ipython3",
   "version": "3.10.4"
  },
  "orig_nbformat": 4,
  "vscode": {
   "interpreter": {
    "hash": "aee8b7b246df8f9039afb4144a1f6fd8d2ca17a180786b69acc140d282b71a49"
   }
  }
 },
 "nbformat": 4,
 "nbformat_minor": 2
}

{
 "cells": [
  {
   "cell_type": "code",
   "execution_count": 4,
   "metadata": {},
   "outputs": [
    {
     "name": "stdout",
     "output_type": "stream",
     "text": [
      "   Product ID   Description  Cost to Manufacture  Price Sold in Bulk?\n",
      "0           1  3 inch screw                  0.5   0.75           Yes\n",
      "1           2   2 inch nail                  0.1   0.25           Yes\n",
      "2           3        hammer                  3.0   5.50            No\n",
      "3           4  screwdrivier                  2.5   3.00            No\n",
      "\n",
      "Adding a Column II ---->\n",
      "\n",
      "Adding Columns by Using Functions ---->\n",
      "   Product ID   Description  Cost to Manufacture  Price Sold in Bulk?  \\\n",
      "0           1  3 inch screw                  0.5   0.75           Yes   \n",
      "1           2   2 inch nail                  0.1   0.25           Yes   \n",
      "2           3        hammer                  3.0   5.50            No   \n",
      "3           4  screwdrivier                  2.5   3.00            No   \n",
      "\n",
      "  Is taxed?  Margins  \n",
      "0       Yes     0.25  \n",
      "1       Yes     0.15  \n",
      "2       Yes     2.50  \n",
      "3       Yes     0.50  \n"
     ]
    }
   ],
   "source": [
    "import pandas as pd\n",
    "\n",
    "df = pd.DataFrame([\n",
    "    [1, \"3 inch screw\", 0.5, 0.75],\n",
    "    [2, \"2 inch nail\", 0.10, 0.25],\n",
    "    [3, \"hammer\", 3.00, 5.50],\n",
    "    [4, \"screwdrivier\", 2.50, 3.00]\n",
    "],\n",
    "columns=[\"Product ID\", \"Description\", \"Cost to Manufacture\", \"Price\"])\n",
    "\n",
    "\n",
    "# Adding a column to df called \"Sold in Bulk?\", with values.\n",
    "df[\"Sold in Bulk?\"] = [\"Yes\", \"Yes\", \"No\", \"No\"]\n",
    "\n",
    "print(df)\n",
    "\n",
    "\n",
    "\"\"\" Adding a Column II \"\"\"\n",
    "print(\"\\nAdding a Column II ---->\")\n",
    "# Adding a column to df called Is taxed? that will have a value of yes for\n",
    "# all rows. \n",
    "df[\"Is taxed?\"] = \"Yes\"\n",
    "\n",
    "\n",
    "\"\"\" Adding a Column by Using Function ---> \"\"\"\n",
    "print(\"\\nAdding Columns by Using Functions ---->\")\n",
    "df[\"Margin\"] = df.Price - df[\"Cost to Manufacture\"]\n",
    "\n",
    "\n",
    "print(df)\n"
   ]
  }
 ],
 "metadata": {
  "kernelspec": {
   "display_name": "Python 3.10.2 64-bit",
   "language": "python",
   "name": "python3"
  },
  "language_info": {
   "codemirror_mode": {
    "name": "ipython",
    "version": 3
   },
   "file_extension": ".py",
   "mimetype": "text/x-python",
   "name": "python",
   "nbconvert_exporter": "python",
   "pygments_lexer": "ipython3",
   "version": "3.10.4"
  },
  "orig_nbformat": 4,
  "vscode": {
   "interpreter": {
    "hash": "aee8b7b246df8f9039afb4144a1f6fd8d2ca17a180786b69acc140d282b71a49"
   }
  }
 },
 "nbformat": 4,
 "nbformat_minor": 2
}

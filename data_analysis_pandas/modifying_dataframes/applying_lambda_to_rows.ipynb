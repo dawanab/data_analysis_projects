{
 "cells": [
  {
   "cell_type": "code",
   "execution_count": 4,
   "metadata": {},
   "outputs": [
    {
     "name": "stdout",
     "output_type": "stream",
     "text": [
      "         Items  Price Is taxed?  Price with Tax\n",
      "0        Apple   1.00        No         1.00000\n",
      "1         Milk   4.20        No         4.20000\n",
      "2  Paper Towel   5.00       Yes         5.37500\n",
      "3  Light Bulbs   3.75       Yes         4.03125\n",
      "\n",
      "Apply Lambda to a Row ---->\n",
      "       id               name  hourly_wage  hours_worked  total_earned\n",
      "0   10310      Lauren Durham           19            43         845.5\n",
      "1   18656      Grace Sellers           17            40         680.0\n",
      "2   61254  Shirley Rasmussen           16            30         480.0\n",
      "3   16886        Brian Rojas           18            47         909.0\n",
      "4   89010    Samantha Mosley           11            38         418.0\n",
      "5   87246       Louis Guzman           14            39         546.0\n",
      "6   20578     Denise Mcclure           15            40         600.0\n",
      "7   12869      James Raymond           15            32         480.0\n",
      "8   53461       Noah Collier           18            35         630.0\n",
      "9   14746    Donna Frederick           20            41         830.0\n",
      "10  71127       Shirley Beck           14            32         448.0\n",
      "11  92522    Christina Kelly            8            44         368.0\n",
      "12  22447        Brian Noble           11            39         429.0\n",
      "13  61654          Randy Key           16            38         608.0\n",
      "14  16988      Diana Stewart           14            48         728.0\n",
      "15  68619       Timothy Sosa           14            42         602.0\n",
      "16  59949      Betty Skinner           11            48         572.0\n",
      "17  81418      Janet Maxwell           12            38         456.0\n",
      "18  27267   Madison Johnston           20            37         740.0\n",
      "19  19985   Virginia Nichols           13            49         695.5\n"
     ]
    }
   ],
   "source": [
    "import pandas as pd\n",
    "\n",
    "df = pd.DataFrame([\n",
    "    [\"Apple\", 1.00, \"No\"],\n",
    "    [\"Milk\", 4.20, \"No\"],\n",
    "    [\"Paper Towel\", 5.00, \"Yes\"],\n",
    "    [\"Light Bulbs\", 3.75, \"Yes\"]\n",
    "], columns=[\"Items\", \"Price\", \"Is taxed?\"])\n",
    "\n",
    "df[\"Price with Tax\"] = df.apply(\n",
    "    lambda row: row[\"Price\"] * 1.075 \n",
    "    if row[\"Is taxed?\"] == \"Yes\" else row[\"Price\"], axis = 1\n",
    ")\n",
    "\n",
    "print(df)\n",
    "\n",
    "\"\"\" Applying a Lambda to a Row \"\"\"\n",
    "print(\"\\nApply Lambda to a Row ---->\")\n",
    "df = pd.read_csv(\"../modifying_dataframes/example_datasets/employees.csv\")\n",
    "# Creating a lambda function 'total_earned' that accepts an input row \n",
    "# with keys hours_worked and hourly_wage and uses an if statement to \n",
    "# calculate the hourly wage.\n",
    "total_earned = lambda row: (row.hourly_wage * 40) + ((row.hourly_wage * 1.5) * (row.hours_worked - 40)) \\\n",
    "\tif row.hours_worked > 40 \\\n",
    "    else row.hourly_wage * row.hours_worked\n",
    "\n",
    "# Using the lambda function total_earned and apply to add a column \n",
    "# total_earned to df with the total amount earned by each employee.\n",
    "df['total_earned'] = df.apply(total_earned, axis = 1)\n",
    "\n",
    "print(df)\n",
    "\n"
   ]
  }
 ],
 "metadata": {
  "kernelspec": {
   "display_name": "Python 3.10.2 64-bit",
   "language": "python",
   "name": "python3"
  },
  "language_info": {
   "codemirror_mode": {
    "name": "ipython",
    "version": 3
   },
   "file_extension": ".py",
   "mimetype": "text/x-python",
   "name": "python",
   "nbconvert_exporter": "python",
   "pygments_lexer": "ipython3",
   "version": "3.10.4"
  },
  "orig_nbformat": 4,
  "vscode": {
   "interpreter": {
    "hash": "aee8b7b246df8f9039afb4144a1f6fd8d2ca17a180786b69acc140d282b71a49"
   }
  }
 },
 "nbformat": 4,
 "nbformat_minor": 2
}

{
 "cells": [
  {
   "cell_type": "code",
   "execution_count": 8,
   "metadata": {},
   "outputs": [
    {
     "name": "stdout",
     "output_type": "stream",
     "text": [
      "         Name                 Email Email Provider\n",
      "0  JOHN SMITH  john.smith@gmail.com      gmail.com\n",
      "1    Jane Doe        jdoe@yahoo.com      yahoo.com\n",
      "2   joe schmo  joeschmo@hotmail.com    hotmail.com\n",
      "\n",
      "Applying a Lambda to a Column ---->\n",
      "      id               name  hourly_wage  hours_worked\n",
      "0  10310      Lauren Durham           19            43\n",
      "1  18656      Grace Sellers           17            40\n",
      "2  61254  Shirley Rasmussen           16            30\n",
      "3  16886        Brian Rojas           18            47\n",
      "4  89010    Samantha Mosley           11            38\n",
      "\n",
      "Using the lambda function --->\n",
      "      id               name  hourly_wage  hours_worked  last_name\n",
      "0  10310      Lauren Durham           19            43     Durham\n",
      "1  18656      Grace Sellers           17            40    Sellers\n",
      "2  61254  Shirley Rasmussen           16            30  Rasmussen\n",
      "3  16886        Brian Rojas           18            47      Rojas\n",
      "4  89010    Samantha Mosley           11            38     Mosley\n"
     ]
    }
   ],
   "source": [
    "import pandas as pd\n",
    "\n",
    "df = pd.DataFrame([\n",
    "    [\"JOHN SMITH\", \"john.smith@gmail.com\"],\n",
    "    [\"Jane Doe\", \"jdoe@yahoo.com\"],\n",
    "    [\"joe schmo\", \"joeschmo@hotmail.com\"]\n",
    "], columns=[\"Name\", \"Email\"])\n",
    "\n",
    "df[\"Email Provider\"] = df.Email.apply(lambda x: x.split(\"@\")[-1])\n",
    "\n",
    "print(df)\n",
    "\n",
    "\n",
    "\"\"\" Applying a Lambda to a Column \"\"\"\n",
    "print(\"\\nApplying a Lambda to a Column ---->\")\n",
    "df = pd.read_csv(\"../modifying_dataframes/example_datasets/employees.csv\")\n",
    "print(df.head())\n",
    "\n",
    "# Creating a lambda function get_last_name that takes a string with someone's \n",
    "# first and last name, and returns just the last name. \n",
    "get_last_name = lambda x: x.split()[-1]\n",
    "\n",
    "# Using the lambda function to create a new column 'last_name' with only\n",
    "# the employees' last names\n",
    "df[\"last_name\"] = df.name.apply(get_last_name)\n",
    "\n",
    "print(\"\\nUsing the lambda function --->\")\n",
    "print(df.head())\n",
    "\n",
    "\n"
   ]
  }
 ],
 "metadata": {
  "kernelspec": {
   "display_name": "Python 3.10.2 64-bit",
   "language": "python",
   "name": "python3"
  },
  "language_info": {
   "codemirror_mode": {
    "name": "ipython",
    "version": 3
   },
   "file_extension": ".py",
   "mimetype": "text/x-python",
   "name": "python",
   "nbconvert_exporter": "python",
   "pygments_lexer": "ipython3",
   "version": "3.10.4"
  },
  "orig_nbformat": 4,
  "vscode": {
   "interpreter": {
    "hash": "aee8b7b246df8f9039afb4144a1f6fd8d2ca17a180786b69acc140d282b71a49"
   }
  }
 },
 "nbformat": 4,
 "nbformat_minor": 2
}

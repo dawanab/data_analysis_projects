{
 "cells": [
  {
   "cell_type": "code",
   "execution_count": 11,
   "metadata": {},
   "outputs": [
    {
     "name": "stdout",
     "output_type": "stream",
     "text": [
      "      id first_name    last_name                      email     shoe_type  \\\n",
      "0  41874       Kyle         Peck       KylePeck71@gmail.com  ballet flats   \n",
      "1  31349  Elizabeth    Velazquez   EVelazquez1971@gmail.com         boots   \n",
      "2  43416      Keith     Saunders           KS4047@gmail.com       sandals   \n",
      "3  56054       Ryan      Sweeney  RyanSweeney14@outlook.com       sandals   \n",
      "4  77402      Donna  Blankenship           DB3807@gmail.com     stilettos   \n",
      "\n",
      "  shoe_material shoe_color  price  \n",
      "0  faux-leather      black  385.0  \n",
      "1        fabric      brown  388.0  \n",
      "2       leather       navy  346.0  \n",
      "3        fabric      brown  344.0  \n",
      "4        fabric      brown  289.0  \n",
      "\n",
      "Find the price of most expensive shoe. --->\n",
      "493.0\n",
      "\n",
      "Find how many different color shoes you're selling. --->\n",
      "5\n",
      "\n",
      "Find the most expensive show per shoe_type. --->\n",
      "      shoe_type  price\n",
      "0  ballet flats  481.0\n",
      "1         boots  478.0\n",
      "2         clogs  493.0\n",
      "3       sandals  456.0\n",
      "4     stilettos  487.0\n",
      "5        wedges  461.0\n"
     ]
    }
   ],
   "source": [
    "import pandas as pd\n",
    "\n",
    "df = pd.read_csv(\"orders.csv\")\n",
    "print(df.head())\n",
    "\n",
    "# Find the price of the most expensive pair of shoes purchased. Save the \n",
    "# result to the variable most_expensive\n",
    "print(\"\\nFind the price of most expensive shoe. --->\")\n",
    "most_expensive = df.price.max()\n",
    "print(most_expensive)\n",
    "\n",
    "\n",
    "# Find out how many different colors of shoes you're selling. Save the result \n",
    "# in a variable, num_colors.\n",
    "print(\"\\nFind how many different color shoes you're selling. --->\")\n",
    "num_colors = df.shoe_color.nunique()\n",
    "print(num_colors)\n",
    "\n",
    "\n",
    "# Find the most expensive shoe for each 'shoe_type'. Save to 'pricey_shoes'.\n",
    "print(\"\\nFind the most expensive show per shoe_type. --->\")\n",
    "pricey_shoes = df.groupby(\"shoe_type\").price.max().reset_index()\n",
    "print(pricey_shoes)"
   ]
  }
 ],
 "metadata": {
  "kernelspec": {
   "display_name": "Python 3.10.2 64-bit",
   "language": "python",
   "name": "python3"
  },
  "language_info": {
   "codemirror_mode": {
    "name": "ipython",
    "version": 3
   },
   "file_extension": ".py",
   "mimetype": "text/x-python",
   "name": "python",
   "nbconvert_exporter": "python",
   "pygments_lexer": "ipython3",
   "version": "3.10.4"
  },
  "orig_nbformat": 4,
  "vscode": {
   "interpreter": {
    "hash": "aee8b7b246df8f9039afb4144a1f6fd8d2ca17a180786b69acc140d282b71a49"
   }
  }
 },
 "nbformat": 4,
 "nbformat_minor": 2
}

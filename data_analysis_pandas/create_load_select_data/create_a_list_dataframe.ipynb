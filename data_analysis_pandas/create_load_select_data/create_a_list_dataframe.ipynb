{
 "cells": [
  {
   "cell_type": "code",
   "execution_count": 4,
   "metadata": {},
   "outputs": [
    {
     "name": "stdout",
     "output_type": "stream",
     "text": [
      "   Store Id       Location  Number of Employees\n",
      "0         1      San Diego                  100\n",
      "1         2    Los Angeles                  120\n",
      "2         3  San Francisco                   90\n",
      "3         4     Sacramento                  115\n"
     ]
    }
   ],
   "source": [
    "\"\"\" We are able to control the ordering of the columns \n",
    "with the use of lists \"\"\"\n",
    "\n",
    "\n",
    "import pandas as pd\n",
    "\n",
    "df2 = pd.DataFrame([\n",
    "    [1, \"San Diego\", 100],\n",
    "    [2, \"Los Angeles\", 120],\n",
    "    [3, \"San Francisco\", 90],\n",
    "    [4, \"Sacramento\", 115]\n",
    "], \n",
    "columns= [\"Store Id\", \"Location\", \"Number of Employees\"] )\n",
    "\n",
    "\n",
    "\n",
    "print(df2)"
   ]
  }
 ],
 "metadata": {
  "language_info": {
   "name": "python"
  },
  "orig_nbformat": 4
 },
 "nbformat": 4,
 "nbformat_minor": 2
}

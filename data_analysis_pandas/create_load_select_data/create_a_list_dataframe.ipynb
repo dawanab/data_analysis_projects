{
 "cells": [
  {
   "cell_type": "code",
   "execution_count": 1,
   "metadata": {},
   "outputs": [
    {
     "name": "stdout",
     "output_type": "stream",
     "text": [
      "   Store Id       Location  Number of Employees\n",
      "0         1       SanDiego                  100\n",
      "1         2    Los Angeles                  200\n",
      "2         3  San Francisco                   90\n",
      "3         4     Sacramento                  115\n",
      "   Store Id       Location  Number of Employees\n",
      "0         1      San Diego                  100\n",
      "1         2    Los Angeles                  120\n",
      "2         3  San Francisco                   90\n",
      "3         4     Sacramento                  115\n"
     ]
    }
   ],
   "source": [
    "\"\"\" We are able to control the ordering of the columns \n",
    "with the use of lists \"\"\"\n",
    "\n",
    "import pandas as pd\n",
    "\n",
    "df2 = pd.DataFrame([\n",
    "    [1, \"San Diego\", 100],\n",
    "    [2, \"Los Angeles\", 120],\n",
    "    [3, \"San Francisco\", 90],\n",
    "    [4, \"Sacramento\", 115]\n",
    "], \n",
    "columns= [\"Store Id\", \"Location\", \"Number of Employees\"] )\n",
    "\n",
    "print(df2)"
   ]
  }
 ],
 "metadata": {
  "kernelspec": {
   "display_name": "Python 3.10.2 64-bit",
   "language": "python",
   "name": "python3"
  },
  "language_info": {
   "codemirror_mode": {
    "name": "ipython",
    "version": 3
   },
   "file_extension": ".py",
   "mimetype": "text/x-python",
   "name": "python",
   "nbconvert_exporter": "python",
   "pygments_lexer": "ipython3",
   "version": "3.10.4"
  },
  "orig_nbformat": 4,
  "vscode": {
   "interpreter": {
    "hash": "aee8b7b246df8f9039afb4144a1f6fd8d2ca17a180786b69acc140d282b71a49"
   }
  }
 },
 "nbformat": 4,
 "nbformat_minor": 2
}

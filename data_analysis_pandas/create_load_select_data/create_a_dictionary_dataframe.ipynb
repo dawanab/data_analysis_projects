{
 "cells": [
  {
   "cell_type": "code",
   "execution_count": 3,
   "metadata": {},
   "outputs": [
    {
     "name": "stdout",
     "output_type": "stream",
     "text": [
      "   Product ID Product Name  Color\n",
      "0           1      t-shirt   blue\n",
      "1           2      t-shirt  green\n",
      "2           3        shirt    red\n",
      "3           4        skirt  black\n",
      "\n",
      "\n",
      "<class 'pandas.core.frame.DataFrame'>\n",
      "RangeIndex: 4 entries, 0 to 3\n",
      "Data columns (total 3 columns):\n",
      " #   Column        Non-Null Count  Dtype \n",
      "---  ------        --------------  ----- \n",
      " 0   Product ID    4 non-null      int64 \n",
      " 1   Product Name  4 non-null      object\n",
      " 2   Color         4 non-null      object\n",
      "dtypes: int64(1), object(2)\n",
      "memory usage: 224.0+ bytes\n",
      "None\n",
      "\n",
      "\n",
      "(4, 3)\n"
     ]
    }
   ],
   "source": [
    "import pandas as pd\n",
    "\n",
    "df1 = pd.DataFrame({\n",
    "    \"Product ID\": [1, 2, 3, 4],\n",
    "    \"Product Name\": [\"t-shirt\", \"t-shirt\", \"shirt\", \"skirt\"],\n",
    "    'Color': [\"blue\", \"green\", \"red\", \"black\"]\n",
    "})\n",
    "\n",
    "\n",
    "print(df1)\n",
    "\n",
    "\"\"\" Using .info() \"\"\"\n",
    "print(\"\\n\")\n",
    "print(df1.info())\n",
    "\n",
    "\"\"\" Using .shape \"\"\"\n",
    "print(\"\\n\")\n",
    "print(df1.shape)"
   ]
  }
 ],
 "metadata": {
  "kernelspec": {
   "display_name": "Python 3.10.2 64-bit",
   "language": "python",
   "name": "python3"
  },
  "language_info": {
   "codemirror_mode": {
    "name": "ipython",
    "version": 3
   },
   "file_extension": ".py",
   "mimetype": "text/x-python",
   "name": "python",
   "nbconvert_exporter": "python",
   "pygments_lexer": "ipython3",
   "version": "3.10.4"
  },
  "orig_nbformat": 4,
  "vscode": {
   "interpreter": {
    "hash": "aee8b7b246df8f9039afb4144a1f6fd8d2ca17a180786b69acc140d282b71a49"
   }
  }
 },
 "nbformat": 4,
 "nbformat_minor": 2
}

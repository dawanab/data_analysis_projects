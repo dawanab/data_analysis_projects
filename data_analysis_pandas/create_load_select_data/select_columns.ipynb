{
 "cells": [
  {
   "cell_type": "code",
   "execution_count": 3,
   "metadata": {},
   "outputs": [
    {
     "name": "stdout",
     "output_type": "stream",
     "text": [
      "      month  clinic_east  clinic_north  clinic_south  clinic_west\n",
      "0   January          100           100            23          100\n",
      "1  February           51            45           145           45\n",
      "2     March           81            96            65           96\n",
      "3     April           80            80            54          180\n",
      "4       May           51            54            54          154\n",
      "5      June          112           109            79          129\n",
      "\n",
      "\n",
      "0    100\n",
      "1     45\n",
      "2     96\n",
      "3     80\n",
      "4     54\n",
      "5    109\n",
      "Name: clinic_north, dtype: int64\n",
      "\n",
      "\n",
      "<class 'pandas.core.series.Series'>\n",
      "<class 'pandas.core.frame.DataFrame'>\n",
      "\n",
      "Selecting Multiple Columns ---->\n",
      "<class 'pandas.core.frame.DataFrame'>\n",
      "   clinic_north  clinic_south\n",
      "0           100            23\n",
      "1            45           145\n",
      "2            96            65\n",
      "3            80            54\n",
      "4            54            54\n",
      "5           109            79\n"
     ]
    }
   ],
   "source": [
    "import pandas as pd\n",
    "\n",
    "df = pd.DataFrame([\n",
    "    [\"January\", 100, 100, 23, 100],\n",
    "    [\"February\", 51, 45, 145, 45],\n",
    "    [\"March\", 81, 96, 65, 96],\n",
    "    [\"April\", 80, 80, 54, 180],\n",
    "    [\"May\", 51, 54, 54, 154],\n",
    "    [\"June\", 112, 109, 79, 129]\n",
    "],\n",
    "columns=[\"month\", \"clinic_east\", \"clinic_north\", \"clinic_south\", \"clinic_west\"])\n",
    "\n",
    "print(df)\n",
    "print(\"\\n\")\n",
    "\n",
    "# Creating a variable clinic_north that contiains data from that clinic only\n",
    "clinic_north = df.clinic_north\n",
    "print(clinic_north)\n",
    "print(\"\\n\")\n",
    "\n",
    "# Printing the type of clinic_north\n",
    "print(type(clinic_north))\n",
    "\n",
    "# Printing the type of df \n",
    "print(type(df))\n",
    "\n",
    "\"\"\" Selecting Multiple Columns \"\"\"\n",
    "print(\"\\nSelecting Multiple Columns ---->\")\n",
    "\n",
    "clinic_north_south = df[[\"clinic_north\", \"clinic_south\"]]\n",
    "print(type(clinic_north_south))\n",
    "print(clinic_north_south)"
   ]
  }
 ],
 "metadata": {
  "kernelspec": {
   "display_name": "Python 3.10.2 64-bit",
   "language": "python",
   "name": "python3"
  },
  "language_info": {
   "codemirror_mode": {
    "name": "ipython",
    "version": 3
   },
   "file_extension": ".py",
   "mimetype": "text/x-python",
   "name": "python",
   "nbconvert_exporter": "python",
   "pygments_lexer": "ipython3",
   "version": "3.10.4"
  },
  "orig_nbformat": 4,
  "vscode": {
   "interpreter": {
    "hash": "aee8b7b246df8f9039afb4144a1f6fd8d2ca17a180786b69acc140d282b71a49"
   }
  }
 },
 "nbformat": 4,
 "nbformat_minor": 2
}

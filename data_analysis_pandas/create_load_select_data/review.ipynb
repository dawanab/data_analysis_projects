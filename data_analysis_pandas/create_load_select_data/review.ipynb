{
 "cells": [
  {
   "cell_type": "code",
   "execution_count": 15,
   "metadata": {},
   "outputs": [
    {
     "name": "stdout",
     "output_type": "stream",
     "text": [
      "\n",
      "Selecting all emails ---->\n",
      "\n",
      "Getting the row with Frances Palmers' Order ---->\n",
      "[[      id first_name last_name                      email shoe_type  \\\n",
      "9  62083    Frances    Palmer  FrancesPalmer50@gmail.com    wedges   \n",
      "\n",
      "  shoe_material shoe_color  \n",
      "9       leather      white  ]]\n",
      "\n",
      "Printing all orders for shoe_type: clogs, boots, ballet flats --->\n",
      "       id first_name   last_name                         email     shoe_type  \\\n",
      "0   54791    Rebecca     Lindsay  RebeccaLindsay57@hotmail.com         clogs   \n",
      "1   53450      Emily       Joyce        EmilyJoyce25@gmail.com  ballet flats   \n",
      "3   14437     Justin    Erickson   Justin.Erickson@outlook.com         clogs   \n",
      "4   79357     Andrew       Banks              AB4318@gmail.com         boots   \n",
      "6   20487     Thomas      Jensen              TJ5470@gmail.com         clogs   \n",
      "7   76971     Janice       Hicks        Janice.Hicks@gmail.com         clogs   \n",
      "8   21586    Gabriel      Porter     GabrielPorter24@gmail.com         clogs   \n",
      "10  91629    Jessica        Hale       JessicaHale25@gmail.com         clogs   \n",
      "12  45832      Susan      Dennis       SusanDennis58@gmail.com  ballet flats   \n",
      "14  73431    Rebecca     Charles     Rebecca.Charles@gmail.com         boots   \n",
      "16  39888    Vincent  Stephenson            VS4753@outlook.com         boots   \n",
      "17  35961        Roy     Tillman        RoyTillman20@gmail.com         boots   \n",
      "\n",
      "   shoe_material shoe_color  \n",
      "0   faux-leather      black  \n",
      "1   faux-leather       navy  \n",
      "3   faux-leather        red  \n",
      "4        leather      brown  \n",
      "6         fabric       navy  \n",
      "7   faux-leather       navy  \n",
      "8        leather      brown  \n",
      "10       leather        red  \n",
      "12        fabric      white  \n",
      "14  faux-leather      white  \n",
      "16       leather      black  \n",
      "17       leather      white  \n"
     ]
    }
   ],
   "source": [
    "import pandas as pd \n",
    "\n",
    "# Loading the data from shoefly.csv into the variable orders. \n",
    "orders = pd.read_csv(\"../create_load_select_data/example_datasets/shoefly.csv\")\n",
    "\n",
    "# Inspecting the first 5 lines of the data.\n",
    "# print(orders.head())\n",
    "\n",
    "# Selecting email addresses from the column email and saving to 'emails'\n",
    "print(\"\\nSelecting all emails ---->\")\n",
    "emails = orders.email\n",
    "# print(emails)\n",
    "\n",
    "# Using logic to select row 'orders' and saving to 'frances_palmer' \n",
    "print(\"\\nGetting the row with Frances Palmers' Order ---->\")\n",
    "frances_palmer = [[orders[(orders.first_name == \"Frances\") & (orders.last_name == \"Palmer\")]]]\n",
    "print(frances_palmer)\n",
    "\n",
    "# Selecting all orders for shoe_type: clogs, boots, and ballet flats.\n",
    "# Saving to 'comfy_shoes'.\n",
    "print(\"\\nPrinting all orders for shoe_type: clogs, boots, ballet flats --->\")\n",
    "comfy_shoes = orders[orders.shoe_type.isin([\"clogs\", \"boots\", \"ballet flats\"])]\n",
    "print(comfy_shoes)"
   ]
  }
 ],
 "metadata": {
  "kernelspec": {
   "display_name": "Python 3.10.2 64-bit",
   "language": "python",
   "name": "python3"
  },
  "language_info": {
   "codemirror_mode": {
    "name": "ipython",
    "version": 3
   },
   "file_extension": ".py",
   "mimetype": "text/x-python",
   "name": "python",
   "nbconvert_exporter": "python",
   "pygments_lexer": "ipython3",
   "version": "3.10.4"
  },
  "orig_nbformat": 4,
  "vscode": {
   "interpreter": {
    "hash": "aee8b7b246df8f9039afb4144a1f6fd8d2ca17a180786b69acc140d282b71a49"
   }
  }
 },
 "nbformat": 4,
 "nbformat_minor": 2
}

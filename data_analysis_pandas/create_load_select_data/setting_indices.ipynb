{
 "cells": [
  {
   "cell_type": "code",
   "execution_count": 3,
   "metadata": {},
   "outputs": [
    {
     "name": "stdout",
     "output_type": "stream",
     "text": [
      "\n",
      "Printing df2 (subset of df) ---->\n",
      "      month  clinic_east  clinic_north  clinic_south  clinic_west\n",
      "1  February           51            45           145           45\n",
      "3     April           80            80            54          180\n",
      "5      June          112           109            79          129\n",
      "\n",
      "Printing df3 using .reset_indices() ---->\n",
      "   index     month  clinic_east  clinic_north  clinic_south  clinic_west\n",
      "0      1  February           51            45           145           45\n",
      "1      3     April           80            80            54          180\n",
      "2      5      June          112           109            79          129\n",
      "\n",
      "Resetting the indicies using inplace=True and drop=True ---->\n",
      "      month  clinic_east  clinic_north  clinic_south  clinic_west\n",
      "0  February           51            45           145           45\n",
      "1     April           80            80            54          180\n",
      "2      June          112           109            79          129\n"
     ]
    }
   ],
   "source": [
    "import pandas as pd \n",
    "\n",
    "df = pd.DataFrame([\n",
    "    [\"January\", 100, 100, 23, 100],\n",
    "    [\"February\", 51, 45, 145, 45],\n",
    "    [\"March\", 81, 96, 65, 96],\n",
    "    [\"April\", 80, 80, 54, 180],\n",
    "    [\"May\", 51, 54, 54, 154],\n",
    "    [\"June\", 112, 109, 79, 129]\n",
    "],\n",
    "columns=[\"month\", \"clinic_east\", \"clinic_north\", \"clinic_south\", \"clinic_west\"])\n",
    "\n",
    "print(\"\\nPrinting df2 (subset of df) ---->\")\n",
    "df2 = df.loc[[1, 3, 5]]\n",
    "print(df2)\n",
    "\n",
    "print(\"\\nPrinting df3 using .reset_indices() ---->\")\n",
    "# Creating a new DataFrame called df3 that resets the indices on df2.\n",
    "# Notice the extra index column added through using reset_index\n",
    "df3 = df2.reset_index()\n",
    "print(df3)\n",
    "\n",
    "# Reset the indicies of df2 using inplece=True and drop=True\n",
    "# Notice how the extra 'index' column is removed by using drop=True and inplace\n",
    "print(\"\\nResetting the indicies using inplace=True and drop=True ---->\")\n",
    "df2.reset_index(inplace=True, drop=True)\n",
    "print(df2)"
   ]
  }
 ],
 "metadata": {
  "kernelspec": {
   "display_name": "Python 3.10.2 64-bit",
   "language": "python",
   "name": "python3"
  },
  "language_info": {
   "codemirror_mode": {
    "name": "ipython",
    "version": 3
   },
   "file_extension": ".py",
   "mimetype": "text/x-python",
   "name": "python",
   "nbconvert_exporter": "python",
   "pygments_lexer": "ipython3",
   "version": "3.10.4"
  },
  "orig_nbformat": 4,
  "vscode": {
   "interpreter": {
    "hash": "aee8b7b246df8f9039afb4144a1f6fd8d2ca17a180786b69acc140d282b71a49"
   }
  }
 },
 "nbformat": 4,
 "nbformat_minor": 2
}

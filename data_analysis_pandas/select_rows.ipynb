{
 "cells": [
  {
   "cell_type": "code",
   "execution_count": 5,
   "metadata": {},
   "outputs": [
    {
     "name": "stdout",
     "output_type": "stream",
     "text": [
      "month           March\n",
      "clinic_east        81\n",
      "clinic_north       96\n",
      "clinic_south       65\n",
      "clinic_west        96\n",
      "Name: 2, dtype: object\n",
      "\n",
      "Selecting Multiple Rows ---->\n",
      "   month  clinic_east  clinic_north  clinic_south  clinic_west\n",
      "3  April           80            80            54          180\n",
      "4    May           51            54            54          154\n",
      "5   June          112           109            79          129\n",
      "\n",
      "Selecting Rows with Logic I ---->\n",
      "     month  clinic_east  clinic_north  clinic_south  clinic_west\n",
      "0  January          100           100            23          100\n",
      "\n",
      "Selecting Rows with Logic II ---->\n",
      "   month  clinic_east  clinic_north  clinic_south  clinic_west\n",
      "2  March           81            96            65           96\n",
      "3  April           80            80            54          180\n",
      "\n",
      "Selecting Rows with Logic ---->\n",
      "      month  clinic_east  clinic_north  clinic_south  clinic_west\n",
      "0   January          100           100            23          100\n",
      "1  February           51            45           145           45\n",
      "2     March           81            96            65           96\n"
     ]
    }
   ],
   "source": [
    "import pandas as pd\n",
    "\n",
    "df = pd.DataFrame([\n",
    "    [\"January\", 100, 100, 23, 100],\n",
    "    [\"February\", 51, 45, 145, 45],\n",
    "    [\"March\", 81, 96, 65, 96],\n",
    "    [\"April\", 80, 80, 54, 180],\n",
    "    [\"May\", 51, 54, 54, 154],\n",
    "    [\"June\", 112, 109, 79, 129]\n",
    "],\n",
    "columns=[\"month\", \"clinic_east\", \"clinic_north\", \"clinic_south\", \"clinic_west\"])\n",
    "\n",
    "# Writing a command that produces a Series made up of the March data from \n",
    "# all four clinic sites and saving to a variable 'march'.\n",
    "march = df.iloc[2]\n",
    "print(march)\n",
    "\n",
    "\n",
    "\"\"\" Selecting Multiple Rows \"\"\"\n",
    "print(\"\\nSelecting Multiple Rows ---->\")\n",
    "\n",
    "april_may_june = df[-3:]\n",
    "print(april_may_june)\n",
    "\n",
    "\n",
    "\"\"\" Selecting Rows with Logic \"\"\"\n",
    "print(\"\\nSelecting Rows with Logic I ---->\")\n",
    "# Creating a variable 'january' using a logical statement that will select\n",
    "# the row of df where the 'month' column is 'January'\n",
    "january = df[df.month == \"January\"]\n",
    "print(january)\n",
    "\n",
    "\n",
    "\"\"\" Selecting Rows with Logic \"\"\"\n",
    "print(\"\\nSelecting Rows with Logic II ---->\")\n",
    "# Creating a variable 'march_april', which contains the data from March and \n",
    "# April.\n",
    "march_april = df[(df.month == \"March\") | (df.month == \"April\")]\n",
    "print(march_april)\n",
    "\n",
    "\n",
    "\"\"\" Selecting Rows with Logic \"\"\"\n",
    "print(\"\\nSelecting Rows with Logic ---->\")\n",
    "# Creating the variable 'january_february_march' that contains the data from \n",
    "# January, February, and March by using the .isin() command\n",
    "january_february_march = df[df.month.isin([\"January\", \"February\", \"March\"])]\n",
    "print(january_february_march)"
   ]
  }
 ],
 "metadata": {
  "kernelspec": {
   "display_name": "Python 3.10.2 64-bit",
   "language": "python",
   "name": "python3"
  },
  "language_info": {
   "codemirror_mode": {
    "name": "ipython",
    "version": 3
   },
   "file_extension": ".py",
   "mimetype": "text/x-python",
   "name": "python",
   "nbconvert_exporter": "python",
   "pygments_lexer": "ipython3",
   "version": "3.10.4"
  },
  "orig_nbformat": 4,
  "vscode": {
   "interpreter": {
    "hash": "aee8b7b246df8f9039afb4144a1f6fd8d2ca17a180786b69acc140d282b71a49"
   }
  }
 },
 "nbformat": 4,
 "nbformat_minor": 2
}
